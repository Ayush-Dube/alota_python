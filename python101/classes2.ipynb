{
 "cells": [
  {
   "cell_type": "code",
   "execution_count": 7,
   "id": "18818fe7-1141-4cb3-9b74-3d0202ecc071",
   "metadata": {},
   "outputs": [
    {
     "name": "stdout",
     "output_type": "stream",
     "text": [
      "usr created a bank account with 5000\n",
      "10000\n",
      "9950\n",
      "usr created a bank account with 85000\n",
      "111\n"
     ]
    }
   ],
   "source": [
    "class Usr:\n",
    "    def __init__(self,name,age,amount):\n",
    "        self.name = name \n",
    "        self.age = age\n",
    "        self.amount = amount\n",
    "        print(f'usr created a bank account with {self.amount}')\n",
    "        \n",
    "    def credit(self,x=0): #we mention self so that we can access it for variables.\n",
    "        self.amount = self.amount + x\n",
    "    \n",
    "    def debit(self,y=0):\n",
    "        self.amount = self.amount - y\n",
    "   \n",
    "        \n",
    "        \n",
    "usr1 = Usr('Aman',25,5000)\n",
    "\n",
    "usr1.credit(5000)\n",
    "print(usr1.amount)\n",
    "usr1.debit(50)\n",
    "print(usr1.amount)\n",
    "\n",
    "usr1.credit()\n",
    "        \n",
    "        \n",
    "\n",
    "usr2 = Usr('billa',31,85000)\n",
    "\n",
    "\n",
    "usr2.amount = 111\n",
    "\n",
    "print(usr2.amount)"
   ]
  },
  {
   "cell_type": "markdown",
   "id": "ebd80f21",
   "metadata": {},
   "source": [
    "#### observe the code above this cell without calling the credit or debit method of Usr class i was able to alter the value of self.amount \n",
    "-  how to prevent this ? \n",
    "        - by using double undersoke  __ ,which will make it private\n"
   ]
  },
  {
   "cell_type": "code",
   "execution_count": 8,
   "id": "0a1957da",
   "metadata": {},
   "outputs": [
    {
     "name": "stdout",
     "output_type": "stream",
     "text": [
      "-40050\n"
     ]
    }
   ],
   "source": [
    "usr1.credit(-50000)\n",
    "print(usr1.amount)"
   ]
  },
  {
   "cell_type": "markdown",
   "id": "f9240211",
   "metadata": {},
   "source": [
    "#### its flawed , crediting a  negative amount will lead to debt....  \n",
    "👇following is a beeter approach"
   ]
  },
  {
   "cell_type": "code",
   "execution_count": 9,
   "id": "7d2deb39-e00d-42b9-9fa1-f69599a58c2b",
   "metadata": {},
   "outputs": [],
   "source": [
    "class User:\n",
    "    def __init__(self,name,age,amount):\n",
    "        self.name = name \n",
    "        self.age = age\n",
    "        self.__amount = amount \n",
    "        # __ for making it private \n",
    "        #now u will not be able to acces it from outside ie can not be just reassigned.\n",
    "        # but u can write afunction that will show the amount \n",
    "        print(f\"New User {self.name} created with {self.__amount}  \")\n",
    "        \n",
    "    def credit(self,x=0):  \n",
    "        if x > 0 or x == 0: \n",
    "            self.__amount += x\n",
    "        else:\n",
    "            print(\"credit amount has to be  positive integer value\")\n",
    "            \n",
    "            \n",
    "    def debit(self,y=0):\n",
    "        if y>= 0 and y <= self.__amount:\n",
    "            self.__amount -= y \n",
    "        else :\n",
    "            print('insufficient ballance or use positive interger value')\n",
    "            \n",
    "            \n",
    "    # now see u can not see the amount outside ,but the user may want to see their balance\n",
    "    #but self.__amount is private , therfore use a get function \n",
    "    \n",
    "    def get_amount(self):\n",
    "        return self.__amount\n",
    "    #no one can alter this private function but they can see it using this function.\n",
    "        \n",
    "        \n",
    "        "
   ]
  },
  {
   "cell_type": "code",
   "execution_count": 10,
   "id": "64fd2558-61d1-4e70-8a3f-872cd436ee02",
   "metadata": {},
   "outputs": [
    {
     "name": "stdout",
     "output_type": "stream",
     "text": [
      "New User akash created with 1000  \n",
      "New User Bajaj created with 5000  \n",
      "New User Chile created with 11000  \n"
     ]
    }
   ],
   "source": [
    "c1 = User('akash',25,1000)\n",
    "c2 = User('Bajaj',28,5000)\n",
    "c3 = User('Chile',31,11000)\n",
    "\n"
   ]
  },
  {
   "cell_type": "code",
   "execution_count": 11,
   "id": "c9128f00-42ad-4665-94ea-5b445d821432",
   "metadata": {},
   "outputs": [
    {
     "name": "stdout",
     "output_type": "stream",
     "text": [
      "1000\n"
     ]
    }
   ],
   "source": [
    "print(c1.get_amount())"
   ]
  },
  {
   "cell_type": "code",
   "execution_count": 12,
   "id": "d2b1f429-adbf-4a64-a7c8-848d9dd9524e",
   "metadata": {},
   "outputs": [
    {
     "name": "stdout",
     "output_type": "stream",
     "text": [
      "1000\n"
     ]
    }
   ],
   "source": [
    "c1.credit(0)\n",
    "print(c1.get_amount())"
   ]
  },
  {
   "cell_type": "code",
   "execution_count": 13,
   "id": "fb6622b7-2696-4125-8327-9c5412665f1e",
   "metadata": {},
   "outputs": [
    {
     "name": "stdout",
     "output_type": "stream",
     "text": [
      "0\n",
      "4500\n"
     ]
    }
   ],
   "source": [
    "c1.debit(1000)\n",
    "print(c1.get_amount())\n",
    "\n",
    "c2.debit(500)\n",
    "print(c2.get_amount())"
   ]
  },
  {
   "cell_type": "markdown",
   "id": "155cbfb5-abf1-4762-a027-b10bc0771c47",
   "metadata": {},
   "source": [
    "#### but u can still alter the name and age, therfore use private __ on those parameters as well   \n"
   ]
  },
  {
   "cell_type": "code",
   "execution_count": 14,
   "id": "0eaa9157-490d-486a-9f21-cbf5c607d3f6",
   "metadata": {},
   "outputs": [
    {
     "name": "stdout",
     "output_type": "stream",
     "text": [
      "New User Xname created with 100000\n"
     ]
    }
   ],
   "source": [
    "import simple\n",
    "\n",
    "\n",
    "imUsr = simple.NewUsr('Xname',31,100000)"
   ]
  },
  {
   "cell_type": "markdown",
   "id": "33b207b1-8f14-4d8e-a24f-2f934dff1d13",
   "metadata": {},
   "source": [
    "- if u use only import , u have to mention the modulename again and again\n",
    "- there fore if use from simple import * or selective units"
   ]
  },
  {
   "cell_type": "code",
   "execution_count": 15,
   "id": "1c0f79e0-4c6e-4845-9a6c-29b1475e4600",
   "metadata": {},
   "outputs": [
    {
     "name": "stdout",
     "output_type": "stream",
     "text": [
      "100000\n"
     ]
    }
   ],
   "source": [
    "print(imUsr.get_amount())"
   ]
  },
  {
   "cell_type": "code",
   "execution_count": 16,
   "id": "45d76c1a-14a8-4eb7-b5a8-29849472042d",
   "metadata": {},
   "outputs": [
    {
     "name": "stdout",
     "output_type": "stream",
     "text": [
      "New User batman created with 999\n"
     ]
    }
   ],
   "source": [
    "from simple import *\n",
    "\n",
    "imUsr2 = NewUsr('batman',27,999)"
   ]
  },
  {
   "cell_type": "code",
   "execution_count": 17,
   "id": "912a4a64-c293-4803-a908-be0cf1bf55c3",
   "metadata": {},
   "outputs": [
    {
     "name": "stdout",
     "output_type": "stream",
     "text": [
      "insufficient ballance or use positive interger value\n"
     ]
    }
   ],
   "source": [
    "imUsr2.debit(1000)"
   ]
  },
  {
   "cell_type": "code",
   "execution_count": 18,
   "id": "4b58a0a1-6327-412b-83b5-851b4a9553c2",
   "metadata": {},
   "outputs": [],
   "source": [
    "imUsr2.debit(999)"
   ]
  },
  {
   "cell_type": "code",
   "execution_count": 19,
   "id": "f2ab8eda-68cd-4b99-9c9e-50a1132e7007",
   "metadata": {},
   "outputs": [
    {
     "name": "stdout",
     "output_type": "stream",
     "text": [
      "0\n"
     ]
    }
   ],
   "source": [
    "print(imUsr2.get_amount())"
   ]
  },
  {
   "cell_type": "code",
   "execution_count": null,
   "id": "982c7e93-9aee-4ad5-8949-11076724eb96",
   "metadata": {},
   "outputs": [],
   "source": []
  },
  {
   "cell_type": "code",
   "execution_count": null,
   "id": "1ee09d29-61a8-4a07-ae7b-638be5c759ed",
   "metadata": {},
   "outputs": [],
   "source": []
  }
 ],
 "metadata": {
  "kernelspec": {
   "display_name": "Python 3 (ipykernel)",
   "language": "python",
   "name": "python3"
  },
  "language_info": {
   "codemirror_mode": {
    "name": "ipython",
    "version": 3
   },
   "file_extension": ".py",
   "mimetype": "text/x-python",
   "name": "python",
   "nbconvert_exporter": "python",
   "pygments_lexer": "ipython3",
   "version": "3.10.9"
  }
 },
 "nbformat": 4,
 "nbformat_minor": 5
}
