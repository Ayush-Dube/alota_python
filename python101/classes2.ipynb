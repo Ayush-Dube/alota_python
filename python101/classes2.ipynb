{
 "cells": [
  {
   "cell_type": "code",
   "execution_count": 38,
   "id": "8938c481",
   "metadata": {},
   "outputs": [
    {
     "name": "stdout",
     "output_type": "stream",
     "text": [
      "usr created a bank account with 5000\n",
      "10000\n",
      "9950\n"
     ]
    }
   ],
   "source": [
    "class Usr:\n",
    "    def __init__(self,name,age,amount):\n",
    "        self.name = name \n",
    "        self.age = age\n",
    "        self.amount = amount\n",
    "        print(f'usr created a bank account with {self.amount}')\n",
    "        \n",
    "    def credit(self,x=0):\n",
    "        self.amount = self.amount + x\n",
    "    \n",
    "    def debit(self,y=0):\n",
    "        self.amount = self.amount - y\n",
    "   \n",
    "        \n",
    "        \n",
    "usr1 = Usr('Aman',25,5000)\n",
    "\n",
    "usr1.credit(5000)\n",
    "print(usr1.amount)\n",
    "usr1.debit(50)\n",
    "print(usr1.amount)\n",
    "\n",
    "usr1.credit()\n",
    "        \n",
    "        "
   ]
  },
  {
   "cell_type": "code",
   "execution_count": 39,
   "id": "4aab35b6",
   "metadata": {},
   "outputs": [
    {
     "name": "stdout",
     "output_type": "stream",
     "text": [
      "usr created a bank account with 85000\n"
     ]
    }
   ],
   "source": [
    "usr2 = Usr('billa',31,85000)\n"
   ]
  },
  {
   "cell_type": "code",
   "execution_count": 40,
   "id": "723716a3",
   "metadata": {},
   "outputs": [],
   "source": [
    "usr2.amount = 111"
   ]
  },
  {
   "cell_type": "code",
   "execution_count": 41,
   "id": "24f6b9d7",
   "metadata": {},
   "outputs": [
    {
     "name": "stdout",
     "output_type": "stream",
     "text": [
      "111\n"
     ]
    }
   ],
   "source": [
    "print(usr2.amount)"
   ]
  },
  {
   "cell_type": "markdown",
   "id": "ebd80f21",
   "metadata": {},
   "source": [
    "#### observe the code above this cell without calling the credit or debit method of Usr class i was able to alter the value of self.amount \n",
    "-  how to prevent this ? \n",
    "        - by using double undersoke  __ ,which will make it private\n"
   ]
  },
  {
   "cell_type": "code",
   "execution_count": 42,
   "id": "0a1957da",
   "metadata": {},
   "outputs": [
    {
     "name": "stdout",
     "output_type": "stream",
     "text": [
      "-40050\n"
     ]
    }
   ],
   "source": [
    "usr1.credit(-50000)\n",
    "print(usr1.amount)"
   ]
  },
  {
   "cell_type": "markdown",
   "id": "f9240211",
   "metadata": {},
   "source": [
    "#### its flawed , crediting a  negative amount will lead to debt...."
   ]
  }
 ],
 "metadata": {
  "kernelspec": {
   "display_name": "Python 3 (ipykernel)",
   "language": "python",
   "name": "python3"
  },
  "language_info": {
   "codemirror_mode": {
    "name": "ipython",
    "version": 3
   },
   "file_extension": ".py",
   "mimetype": "text/x-python",
   "name": "python",
   "nbconvert_exporter": "python",
   "pygments_lexer": "ipython3",
   "version": "3.10.9"
  }
 },
 "nbformat": 4,
 "nbformat_minor": 5
}
