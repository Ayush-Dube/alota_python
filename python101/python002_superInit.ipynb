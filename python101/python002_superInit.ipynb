{
 "cells": [
  {
   "cell_type": "markdown",
   "id": "25c2dbd2-f7a1-48bf-926d-c2593e77937a",
   "metadata": {},
   "source": [
    "#### super() --> A special function used in CHILD/SUB class to call methods from prarent/super class.  \n",
    "- <details><summary>brocode</summary>\n",
    "    refer brocode SUPER() in Python explained!\n",
    "\n",
    "\n",
    "  </details>"
   ]
  },
  {
   "cell_type": "markdown",
   "id": "5d90e1c5-eb88-4e0b-aa5b-0b1dbdeb1929",
   "metadata": {},
   "source": [
    "- 👉when you add __init__() function, the child class will no longer inherit parents __init__()function\n",
    "- 👉to keep inhertiance of parents __init__(), add a call to parents init inside the childs init function\n",
    " \n",
    "             class Subclass:\n",
    "                  def __init__(self,para1,para2,para3):\n",
    "                     self.para3 = para3\n",
    "                     Parent.__init__(self,para1,para2) \n",
    "                     \n",
    "                     or use \n",
    "                     \n",
    "                     super().__init__(para1,para2)  ## inthis case u do not have to write self again as a arguement.\n",
    "                     \n",
    "                     \n",
    "- Key Concepts to Remember:  \n",
    "    Inheritance:\n",
    "\n",
    "    Share common logic in the parent class.\n",
    "    Child classes can extend or override the behavior of the parent.\n",
    "    super() Behavior:\n",
    "\n",
    "    Use it to initialize parent class attributes or methods.\n",
    "    Call it early to avoid conflicts.\n",
    "    Encapsulation:\n",
    "\n",
    "    Use private or protected attributes (e.g., _weight or __weight) for better control.\n",
    "    Polymorphism:\n",
    "\n",
    "    Define common methods in the parent and customize them in child classes.\n"
   ]
  },
  {
   "cell_type": "code",
   "execution_count": 151,
   "id": "e826c797-7cbc-4dcc-80a4-f7018df28a8b",
   "metadata": {},
   "outputs": [],
   "source": [
    "class Human:\n",
    "    def __init__(self,name,age,gender,height,weight):\n",
    "        self.name = name\n",
    "        self.age = age\n",
    "        self.gender = gender\n",
    "        self.height = height\n",
    "        self.weight =weight\n",
    "        print(f\"a {self.gender} named '{self.name}', {self.age} yrs of age weighing {self.weight} kg stands {self.height} cms tall.\")\n",
    "        \n",
    "    def run(self): #again u forgot to write self\n",
    "        return f\"{self.name} will run now\"\n",
    "        \n",
    "    \n",
    "    \n",
    "    \n",
    "    \n",
    "class Employee(Human):\n",
    "    \n",
    "    def __init__(self ,name,age,gender,height,weight,state,profession): # state,profession r new para's\n",
    "        super().__init__(name,age,gender,height,weight)\n",
    "        self.state = state\n",
    "        self.profession = profession\n",
    "        self.__pronoun = \"he\" if self.gender.lower() == 'male' else \"she\"\n",
    "        print(f\"{self.__pronoun} works as a {self.profession} and is from {self.state}\") \n",
    "        \n",
    "         # if u take the super declaration  before self.state the order will change\n",
    "        \n",
    "\n",
    "class Soldier(Employee):\n",
    "    \n",
    "    def __init__(self,name,age,gender,height,weight,state,profession,service,rank): #write all the para's new&old that will be used\n",
    "        super().__init__(name,age,gender,height,weight,state,profession)  #dont have to use self here ; write old para's -->forgot to write para's inside ()\n",
    "        #after declaring super , now declare ur new variables using self\n",
    "        self.service = service\n",
    "        self.rank = rank\n",
    "        self.__trade = \"infantryMan\" if self.service.lower() == \"army\" else \"sailor\" if self.service.lower() == \"navy\" else \"airman\" \n",
    "        print(f\"a {self.__trade} from the {self.service.lower()} ...a {self.profession} having the rank of {self.rank}\")\n",
    "        #observe that it will use parent classes professioin variable .\n",
    "    \n",
    "class Teacher:\n",
    "    pass\n",
    "\n",
    "class Farmer:\n",
    "    pass \n"
   ]
  },
  {
   "cell_type": "code",
   "execution_count": 152,
   "id": "55f0c6dd-2b57-4ada-982e-56ae2c4e5298",
   "metadata": {},
   "outputs": [
    {
     "name": "stdout",
     "output_type": "stream",
     "text": [
      "a male named 'Ajay', 26 yrs of age weighing 71 kg stands 175 cms tall.\n"
     ]
    }
   ],
   "source": [
    "\n",
    "h1=Human('Ajay',26,'male',175,71)"
   ]
  },
  {
   "cell_type": "code",
   "execution_count": 153,
   "id": "4ebc02b6-c6db-43c3-9830-369ec395deaa",
   "metadata": {},
   "outputs": [
    {
     "name": "stdout",
     "output_type": "stream",
     "text": [
      "a female named 'Biloo', 25 yrs of age weighing 62 kg stands 168 cms tall.\n",
      "she works as a teacher and is from Delhi\n"
     ]
    }
   ],
   "source": [
    "e1 = Employee('Biloo',25,'female',168,62,\"Delhi\",\"teacher\")"
   ]
  },
  {
   "cell_type": "code",
   "execution_count": 154,
   "id": "884c1446-e52a-40b2-95e9-548af6ab0d46",
   "metadata": {},
   "outputs": [
    {
     "name": "stdout",
     "output_type": "stream",
     "text": [
      "Biloo\n"
     ]
    }
   ],
   "source": [
    "print(e1.name)"
   ]
  },
  {
   "cell_type": "markdown",
   "id": "da2f34cf-b174-48e7-9216-1eb1944197a1",
   "metadata": {},
   "source": [
    "## code\n",
    "\n",
    "    class Employee(Human):\n",
    "        def __init__(self, name, age, gender, height, weight, state, profession):\n",
    "            super().__init__(name, age, gender, height, weight)  # Initializes self.gender\n",
    "            self.state = state\n",
    "            self.profession = profession\n",
    "            self.__pronoun = \"he\" if self.gender.lower() == \"male\" else \"she\"  # Use self.gender\n",
    "            print(f\"{self.__pronoun.capitalize()} works as a {self.profession} and is from {self.state}\")\n"
   ]
  },
  {
   "cell_type": "code",
   "execution_count": 155,
   "id": "43e2eec8-0460-418e-84b2-471ce4020482",
   "metadata": {},
   "outputs": [
    {
     "name": "stdout",
     "output_type": "stream",
     "text": [
      "<__main__.Employee object at 0x0000019918DF36D0>\n"
     ]
    }
   ],
   "source": [
    "print(e1)  # without __str__ mrthod"
   ]
  },
  {
   "cell_type": "code",
   "execution_count": 156,
   "id": "fb4e7f94-c622-4585-be52-4a4d5c615659",
   "metadata": {},
   "outputs": [
    {
     "name": "stdout",
     "output_type": "stream",
     "text": [
      "a male named 'Teja', 31 yrs of age weighing 68 kg stands 173 cms tall.\n",
      "he works as a fauji and is from Himachal\n",
      "a airman from the airforce ...a fauji having the rank of Wing Commander\n"
     ]
    }
   ],
   "source": [
    "s1 = Soldier(\"Teja\",31,\"male\",173,68,\"Himachal\",\"fauji\",\"Airforce\",\"Wing Commander\") "
   ]
  },
  {
   "cell_type": "code",
   "execution_count": 157,
   "id": "9f0bee52-ed90-4696-8f49-3da55c00194c",
   "metadata": {},
   "outputs": [
    {
     "name": "stdout",
     "output_type": "stream",
     "text": [
      "a male named 'Surya', 22 yrs of age weighing 70 kg stands 178 cms tall.\n",
      "he works as a fauji and is from kerala\n",
      "a sailor from the navy ...a fauji having the rank of Sub Litunent\n",
      "\n",
      "\n",
      "a female named 'Bhavani', 25 yrs of age weighing 60 kg stands 167 cms tall.\n",
      "she works as a faujan and is from Delhi\n",
      "a infantryMan from the army ...a faujan having the rank of captain\n"
     ]
    }
   ],
   "source": [
    "s2 = Soldier(\"Surya\",22,'male',178,70,\"kerala\",\"fauji\",\"NaVy\",\"Sub Litunent\")\n",
    "print('\\n')\n",
    "s3 = Soldier(\"Bhavani\",25,'female',167,60,\"Delhi\",'faujan','army','captain')"
   ]
  },
  {
   "cell_type": "code",
   "execution_count": 158,
   "id": "d0f43de0-f757-465d-87be-5b335024423d",
   "metadata": {},
   "outputs": [
    {
     "data": {
      "text/plain": [
       "<map at 0x19918e1ed40>"
      ]
     },
     "execution_count": 158,
     "metadata": {},
     "output_type": "execute_result"
    }
   ],
   "source": [
    "map(lambda i:i.print,[h1,e1,s1,s2,s3])"
   ]
  },
  {
   "cell_type": "code",
   "execution_count": 163,
   "id": "cf1e9836-3599-4d0d-961f-de4a9a1ec141",
   "metadata": {},
   "outputs": [],
   "source": [
    "# list(map(lambda i:print(i.run()),[h1,e1,s1,s2,s3]))  #double print command use i.run()"
   ]
  },
  {
   "cell_type": "code",
   "execution_count": 164,
   "id": "5ca0370b-a728-49e4-8e6b-5b444f33f205",
   "metadata": {},
   "outputs": [
    {
     "data": {
      "text/plain": [
       "'Ajay will run now'"
      ]
     },
     "execution_count": 164,
     "metadata": {},
     "output_type": "execute_result"
    }
   ],
   "source": [
    "h1.run()"
   ]
  },
  {
   "cell_type": "code",
   "execution_count": 165,
   "id": "a914bd82-c2f9-44d6-b5ca-81c5892ccaf8",
   "metadata": {},
   "outputs": [
    {
     "data": {
      "text/plain": [
       "['Ajay will run now',\n",
       " 'Biloo will run now',\n",
       " 'Teja will run now',\n",
       " 'Surya will run now',\n",
       " 'Bhavani will run now']"
      ]
     },
     "execution_count": 165,
     "metadata": {},
     "output_type": "execute_result"
    }
   ],
   "source": [
    "list(map(lambda i : i.run(),[h1,e1,s1,s2,s3]))"
   ]
  },
  {
   "cell_type": "markdown",
   "id": "bd13e84e-06ca-4fa6-a03a-cc223ffeb5e6",
   "metadata": {},
   "source": [
    "### in this excercise i also learned about return vs print when using map ,\n",
    "- a function must return a output rather then print \n",
    "- print is essentially  for  debugging purpose"
   ]
  },
  {
   "cell_type": "code",
   "execution_count": null,
   "id": "074e8215-dc37-4137-a177-fe8252d60484",
   "metadata": {},
   "outputs": [],
   "source": []
  }
 ],
 "metadata": {
  "kernelspec": {
   "display_name": "Python 3 (ipykernel)",
   "language": "python",
   "name": "python3"
  },
  "language_info": {
   "codemirror_mode": {
    "name": "ipython",
    "version": 3
   },
   "file_extension": ".py",
   "mimetype": "text/x-python",
   "name": "python",
   "nbconvert_exporter": "python",
   "pygments_lexer": "ipython3",
   "version": "3.10.9"
  }
 },
 "nbformat": 4,
 "nbformat_minor": 5
}
