{
 "cells": [
  {
   "cell_type": "markdown",
   "id": "25c2dbd2-f7a1-48bf-926d-c2593e77937a",
   "metadata": {},
   "source": [
    "#### super() --> A special function used in CHILD/SUB class to call methods from prarent/super class.  \n",
    "- <details><summary>brocode</summary>\n",
    "    refer brocode SUPER() in Python explained!\n",
    "\n",
    "\n",
    "  </details>"
   ]
  },
  {
   "cell_type": "code",
   "execution_count": 64,
   "id": "e826c797-7cbc-4dcc-80a4-f7018df28a8b",
   "metadata": {},
   "outputs": [],
   "source": [
    "class Human:\n",
    "    def __init__(self,name,age,gender,height,weight):\n",
    "        self.name = name\n",
    "        self.age = age\n",
    "        self.gender = gender\n",
    "        self.height = height\n",
    "        self.weight =weight\n",
    "        print(f\"a {self.gender} named '{self.name}', {self.age} yrs of age weighing {self.weight} kg stands {self.height} cms tall.\")\n",
    "        \n",
    "    \n",
    "    \n",
    "    \n",
    "    \n",
    "class Employee(Human):\n",
    "    \n",
    "    def __init__(self ,name,age,gender,height,weight,state,profession):\n",
    "        \n",
    "        self.state = state\n",
    "        self.profession = profession\n",
    "        print(f\"works as a {self.profession} and is from {self.state}\") \n",
    "        super().__init__(name,age,gender,height,weight)\n",
    "        \n",
    "        \n",
    "\n",
    "class Soldier:\n",
    "    pass\n",
    "    \n",
    "class Teacher:\n",
    "    pass\n",
    "\n",
    "class Farmer:\n",
    "    pass \n",
    "\n",
    "class Sports_person:\n",
    "    pass"
   ]
  },
  {
   "cell_type": "code",
   "execution_count": 65,
   "id": "55f0c6dd-2b57-4ada-982e-56ae2c4e5298",
   "metadata": {},
   "outputs": [
    {
     "name": "stdout",
     "output_type": "stream",
     "text": [
      "a male named 'Ajay', 26 yrs of age weighing 71 kg stands 175 cms tall.\n"
     ]
    }
   ],
   "source": [
    "h1=Human('Ajay',26,'male',175,71)"
   ]
  },
  {
   "cell_type": "code",
   "execution_count": 66,
   "id": "4ebc02b6-c6db-43c3-9830-369ec395deaa",
   "metadata": {},
   "outputs": [
    {
     "name": "stdout",
     "output_type": "stream",
     "text": [
      "works as a teacher and is from Delhi\n",
      "a Female named 'Biloo', 25 yrs of age weighing 62 kg stands 168 cms tall.\n"
     ]
    }
   ],
   "source": [
    "e1 = Employee('Biloo',25,'Female',168,62,\"Delhi\",\"teacher\")"
   ]
  },
  {
   "cell_type": "code",
   "execution_count": 67,
   "id": "884c1446-e52a-40b2-95e9-548af6ab0d46",
   "metadata": {},
   "outputs": [
    {
     "name": "stdout",
     "output_type": "stream",
     "text": [
      "Biloo\n"
     ]
    }
   ],
   "source": [
    "print(e1.name)"
   ]
  },
  {
   "cell_type": "code",
   "execution_count": null,
   "id": "2caf8062-ca26-484b-b77a-38e896ffde9e",
   "metadata": {},
   "outputs": [],
   "source": []
  },
  {
   "cell_type": "code",
   "execution_count": null,
   "id": "80642894-7d98-4034-a607-e3cece3c1d6a",
   "metadata": {},
   "outputs": [],
   "source": []
  }
 ],
 "metadata": {
  "kernelspec": {
   "display_name": "Python 3 (ipykernel)",
   "language": "python",
   "name": "python3"
  },
  "language_info": {
   "codemirror_mode": {
    "name": "ipython",
    "version": 3
   },
   "file_extension": ".py",
   "mimetype": "text/x-python",
   "name": "python",
   "nbconvert_exporter": "python",
   "pygments_lexer": "ipython3",
   "version": "3.10.9"
  }
 },
 "nbformat": 4,
 "nbformat_minor": 5
}
