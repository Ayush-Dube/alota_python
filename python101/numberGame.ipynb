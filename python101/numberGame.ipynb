{
 "cells": [
  {
   "cell_type": "code",
   "execution_count": 22,
   "id": "6ab2d39d-a37d-4b03-8e46-f0f25f90d6dd",
   "metadata": {},
   "outputs": [],
   "source": [
    "class numbrG:\n",
    "    def __init__(self,*args):\n",
    "        self.args = args\n",
    "        print(f\"<* {' '.join(map(str,args))} *>\")\n",
    "        \n",
    "    def get_sum(self):\n",
    "        return sum(list(self.args))\n",
    "    \n",
    "    def get_avg(self):\n",
    "        return sum(list(self.args))/len(self.args)\n",
    "    \n",
    "    def sqr(self):\n",
    "        return list(map(lambda i:i*i,list(self.args)))\n",
    "    \n",
    "    def \n",
    "\n",
    "        \n",
    "        \n",
    "    \n",
    "        "
   ]
  },
  {
   "cell_type": "code",
   "execution_count": 23,
   "id": "f81661f1-e308-43b0-91fd-0943d8971f22",
   "metadata": {},
   "outputs": [
    {
     "name": "stdout",
     "output_type": "stream",
     "text": [
      "<* 11 22 33 44 55 *>\n",
      "165\n",
      "33.0\n",
      "[121, 484, 1089, 1936, 3025]\n"
     ]
    }
   ],
   "source": [
    "n1 = numbrG(11,22,33,44,55)\n",
    "print(n1.get_sum())\n",
    "print(n1.get_avg())\n",
    "print(n1.sqr())"
   ]
  },
  {
   "cell_type": "code",
   "execution_count": null,
   "id": "510c1171-eb6c-4e3e-be27-5fb09e1aad7f",
   "metadata": {},
   "outputs": [],
   "source": []
  }
 ],
 "metadata": {
  "kernelspec": {
   "display_name": "Python 3 (ipykernel)",
   "language": "python",
   "name": "python3"
  },
  "language_info": {
   "codemirror_mode": {
    "name": "ipython",
    "version": 3
   },
   "file_extension": ".py",
   "mimetype": "text/x-python",
   "name": "python",
   "nbconvert_exporter": "python",
   "pygments_lexer": "ipython3",
   "version": "3.10.9"
  }
 },
 "nbformat": 4,
 "nbformat_minor": 5
}
