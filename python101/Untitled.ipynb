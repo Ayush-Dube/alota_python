{
 "cells": [
  {
   "cell_type": "code",
   "execution_count": 1,
   "id": "6a50b72f-e786-4393-a1a0-aa55596e046c",
   "metadata": {},
   "outputs": [],
   "source": [
    "class Vehicle:\n",
    "    def __init__(self, brand, model, year):\n",
    "        self.brand = brand\n",
    "        self.model = model\n",
    "        self.year = year\n",
    "\n",
    "    def info(self):\n",
    "        return f\"{self.year} {self.brand} {self.model}\"\n"
   ]
  },
  {
   "cell_type": "code",
   "execution_count": 2,
   "id": "db7c3c92-a503-4e77-920d-67975b587d61",
   "metadata": {},
   "outputs": [],
   "source": [
    "class Car(Vehicle):\n",
    "    def __init__(self, brand, model, year, num_doors):\n",
    "        # Call the parent class's constructor\n",
    "        super().__init__(brand, model, year)\n",
    "        self.num_doors = num_doors\n",
    "\n",
    "    def info(self):\n",
    "        # Extend the parent method\n",
    "        return super().info() + f\" with {self.num_doors} doors\"\n"
   ]
  },
  {
   "cell_type": "code",
   "execution_count": 3,
   "id": "edbc61d9-8fe1-4062-81a9-edbf321fbd41",
   "metadata": {},
   "outputs": [],
   "source": [
    "class Truck(Vehicle):\n",
    "    def __init__(self, brand, model, year, payload_capacity):\n",
    "        # Call the parent class's constructor\n",
    "        super().__init__(brand, model, year)\n",
    "        self.payload_capacity = payload_capacity\n",
    "\n",
    "    def info(self):\n",
    "        # Extend the parent method\n",
    "        return super().info() + f\" with a payload capacity of {self.payload_capacity} tons\"\n"
   ]
  },
  {
   "cell_type": "code",
   "execution_count": 4,
   "id": "01f2c208-f6f6-4622-9c1c-7ac1cffb8169",
   "metadata": {},
   "outputs": [
    {
     "name": "stdout",
     "output_type": "stream",
     "text": [
      "2020 Generic BaseModel\n",
      "2022 Toyota Corolla with 4 doors\n",
      "2021 Ford F-150 with a payload capacity of 3 tons\n"
     ]
    }
   ],
   "source": [
    "# Creating a general vehicle\n",
    "vehicle = Vehicle(\"Generic\", \"BaseModel\", 2020)\n",
    "print(vehicle.info())  # Output: 2020 Generic BaseModel\n",
    "\n",
    "# Creating a car\n",
    "car = Car(\"Toyota\", \"Corolla\", 2022, 4)\n",
    "print(car.info())  # Output: 2022 Toyota Corolla with 4 doors\n",
    "\n",
    "# Creating a truck\n",
    "truck = Truck(\"Ford\", \"F-150\", 2021, 3)\n",
    "print(truck.info())  # Output: 2021 Ford F-150 with a payload capacity of 3 tons\n"
   ]
  },
  {
   "cell_type": "code",
   "execution_count": 5,
   "id": "34676a8a-ba60-4440-a58c-801747563731",
   "metadata": {},
   "outputs": [],
   "source": [
    "class ElectricCar(Car):\n",
    "    def __init__(self, brand, model, year, num_doors, battery_capacity):\n",
    "        # Call the parent (Car) constructor\n",
    "        super().__init__(brand, model, year, num_doors)\n",
    "        self.battery_capacity = battery_capacity\n",
    "\n",
    "    def info(self):\n",
    "        # Extend the parent method\n",
    "        return super().info() + f\" and a battery capacity of {self.battery_capacity} kWh\"\n"
   ]
  },
  {
   "cell_type": "code",
   "execution_count": 6,
   "id": "6d97ef72-69e8-46f3-9c12-790f9ff4dd61",
   "metadata": {},
   "outputs": [
    {
     "name": "stdout",
     "output_type": "stream",
     "text": [
      "2023 Tesla Model 3 with 4 doors and a battery capacity of 75 kWh\n"
     ]
    }
   ],
   "source": [
    "electric_car = ElectricCar(\"Tesla\", \"Model 3\", 2023, 4, 75)\n",
    "print(electric_car.info())\n",
    "# Output: 2023 Tesla Model 3 with 4 doors and a battery capacity of 75 kWh\n"
   ]
  },
  {
   "cell_type": "code",
   "execution_count": null,
   "id": "5e9b7224-dfaa-4da8-8f9f-996d193e255b",
   "metadata": {},
   "outputs": [],
   "source": []
  }
 ],
 "metadata": {
  "kernelspec": {
   "display_name": "Python 3 (ipykernel)",
   "language": "python",
   "name": "python3"
  },
  "language_info": {
   "codemirror_mode": {
    "name": "ipython",
    "version": 3
   },
   "file_extension": ".py",
   "mimetype": "text/x-python",
   "name": "python",
   "nbconvert_exporter": "python",
   "pygments_lexer": "ipython3",
   "version": "3.10.9"
  }
 },
 "nbformat": 4,
 "nbformat_minor": 5
}
