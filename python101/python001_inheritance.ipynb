{
 "cells": [
  {
   "cell_type": "markdown",
   "id": "f4384746-e650-49fd-87ec-d433f7897b85",
   "metadata": {},
   "source": [
    "### Using Super init method for inheritance"
   ]
  },
  {
   "cell_type": "code",
   "execution_count": 10,
   "id": "b837db2e-9bea-4d0d-8e18-6b8b1154bf78",
   "metadata": {},
   "outputs": [],
   "source": [
    "class A:\n",
    "     outrVarA = \"this is a varaible from outside the init\"\n",
    "        \n",
    "     def __init__(self):\n",
    "        self.outrVarA =  \"same variable name but different value LION\"\n",
    "        \n",
    "    "
   ]
  },
  {
   "cell_type": "code",
   "execution_count": 11,
   "id": "35384c26-897e-489a-bafb-45158e09e571",
   "metadata": {},
   "outputs": [
    {
     "data": {
      "text/plain": [
       "'same variable name but different value LION'"
      ]
     },
     "execution_count": 11,
     "metadata": {},
     "output_type": "execute_result"
    }
   ],
   "source": [
    "a1 =A()\n",
    "a1.outrVarA"
   ]
  },
  {
   "cell_type": "markdown",
   "id": "09f0fe8e-9f33-4836-8633-a66c974093b3",
   "metadata": {},
   "source": [
    "#### interesting that 2 same name variable are present but the init method's variable is being prefered"
   ]
  },
  {
   "cell_type": "code",
   "execution_count": 13,
   "id": "ed8f9679-2168-4b05-8176-30974e9b7baa",
   "metadata": {},
   "outputs": [
    {
     "data": {
      "text/plain": [
       "'changed but still outside'"
      ]
     },
     "execution_count": 13,
     "metadata": {},
     "output_type": "execute_result"
    }
   ],
   "source": [
    "\n",
    "a1.outrVarA = \"changed but still outside\"\n",
    "a1.outrVarA"
   ]
  },
  {
   "cell_type": "code",
   "execution_count": null,
   "id": "951ab726-3cbd-472a-b671-00b2550ae4bb",
   "metadata": {},
   "outputs": [],
   "source": []
  }
 ],
 "metadata": {
  "kernelspec": {
   "display_name": "Python 3 (ipykernel)",
   "language": "python",
   "name": "python3"
  },
  "language_info": {
   "codemirror_mode": {
    "name": "ipython",
    "version": 3
   },
   "file_extension": ".py",
   "mimetype": "text/x-python",
   "name": "python",
   "nbconvert_exporter": "python",
   "pygments_lexer": "ipython3",
   "version": "3.10.9"
  }
 },
 "nbformat": 4,
 "nbformat_minor": 5
}
