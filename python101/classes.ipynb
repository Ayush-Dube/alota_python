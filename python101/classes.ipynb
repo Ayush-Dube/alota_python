{
 "cells": [
  {
   "cell_type": "code",
   "execution_count": 3,
   "id": "dbbae76e-4e1e-4e1b-890f-8ad9be18da91",
   "metadata": {},
   "outputs": [],
   "source": [
    "a = \"lion\""
   ]
  },
  {
   "cell_type": "code",
   "execution_count": 4,
   "id": "e6d4cfb7-363b-4d41-b2d3-c73fab31ba1d",
   "metadata": {},
   "outputs": [
    {
     "name": "stdout",
     "output_type": "stream",
     "text": [
      "<class 'str'>\n"
     ]
    }
   ],
   "source": [
    "print(type(a))"
   ]
  },
  {
   "cell_type": "code",
   "execution_count": 5,
   "id": "b57ce318-3dbf-40ac-b19d-a2c4c112f103",
   "metadata": {},
   "outputs": [],
   "source": [
    "b:str= 5"
   ]
  },
  {
   "cell_type": "code",
   "execution_count": 6,
   "id": "33aad269-3566-40f9-9f64-e3d96678f4a8",
   "metadata": {},
   "outputs": [
    {
     "name": "stdout",
     "output_type": "stream",
     "text": [
      "<class 'int'>\n"
     ]
    }
   ],
   "source": [
    "print(type(b))"
   ]
  },
  {
   "cell_type": "code",
   "execution_count": 7,
   "id": "d19e7072-6d91-4c6b-a08a-5b279bf4205e",
   "metadata": {},
   "outputs": [],
   "source": [
    "c:int = 'tiger'"
   ]
  },
  {
   "cell_type": "code",
   "execution_count": 9,
   "id": "071d2da3-1fe3-443d-9511-11912102c862",
   "metadata": {},
   "outputs": [
    {
     "name": "stdout",
     "output_type": "stream",
     "text": [
      "<class 'str'>\n"
     ]
    }
   ],
   "source": [
    "print(type(c))"
   ]
  },
  {
   "cell_type": "markdown",
   "id": "a00df8a3-4f21-47b8-86ea-bdaac5ef692f",
   "metadata": {},
   "source": [
    "#### the reson we r not getting error is that ,type declaration is just like a traffic lights ,they dont stop u"
   ]
  },
  {
   "cell_type": "markdown",
   "id": "52e9111f-0cd4-439e-9c94-3b0720cf0b6a",
   "metadata": {},
   "source": [
    "classes has attributes and method\n",
    "<details>\n",
    "<summary>Click to expand</summary>\n",
    "\n",
    "\n",
    "</details>"
   ]
  },
  {
   "cell_type": "code",
   "execution_count": null,
   "id": "87ae20cd-138b-4a68-912f-594f1cb5a056",
   "metadata": {},
   "outputs": [],
   "source": [
    "l1 = [1,2,3,4]"
   ]
  },
  {
   "cell_type": "code",
   "execution_count": 11,
   "id": "f902e1c4-c1bd-45f5-a801-a076a3940fab",
   "metadata": {},
   "outputs": [
    {
     "data": {
      "text/plain": [
       "'lion'"
      ]
     },
     "execution_count": 11,
     "metadata": {},
     "output_type": "execute_result"
    }
   ],
   "source": [
    "a"
   ]
  },
  {
   "cell_type": "code",
   "execution_count": 21,
   "id": "803587d3-896c-4d6f-8ed9-4a3934c18347",
   "metadata": {},
   "outputs": [],
   "source": [
    "c= 5 + 9j"
   ]
  },
  {
   "cell_type": "code",
   "execution_count": 2,
   "id": "b0a18c54-f80e-4de7-899d-0b2e347a8c14",
   "metadata": {},
   "outputs": [],
   "source": [
    "fruits = ['apple','banana','cherry','dragonfruit','emuApple','fig','grape','huclkeberry']"
   ]
  },
  {
   "cell_type": "code",
   "execution_count": 16,
   "id": "66b54a0e-8de5-424e-95f6-871f6010ddfc",
   "metadata": {},
   "outputs": [
    {
     "name": "stdout",
     "output_type": "stream",
     "text": [
      "\n",
      "*\n",
      "**\n",
      "***\n",
      "****\n",
      "*****\n",
      "******\n",
      "*******\n",
      "********\n",
      "*******\n",
      "******\n",
      "*****\n",
      "****\n",
      "***\n",
      "**\n",
      "*\n"
     ]
    }
   ],
   "source": [
    "for i in range(len(fruits)):\n",
    "    print(i * '*')\n",
    "    \n",
    "for i in range(len(fruits)):\n",
    "    \n",
    "    print((len(fruits)-i) * '*')\n",
    "    \n",
    "    "
   ]
  },
  {
   "cell_type": "code",
   "execution_count": null,
   "id": "8762b384-e604-4bde-b759-1adb7740fb0b",
   "metadata": {},
   "outputs": [],
   "source": []
  },
  {
   "cell_type": "code",
   "execution_count": null,
   "id": "13095b82-6efc-44c5-b277-6c72a851bb24",
   "metadata": {},
   "outputs": [],
   "source": []
  },
  {
   "cell_type": "code",
   "execution_count": null,
   "id": "fa5a1a3d-f2fb-4b0a-b4e5-82495f14df75",
   "metadata": {},
   "outputs": [],
   "source": []
  }
 ],
 "metadata": {
  "kernelspec": {
   "display_name": "Python 3 (ipykernel)",
   "language": "python",
   "name": "python3"
  },
  "language_info": {
   "codemirror_mode": {
    "name": "ipython",
    "version": 3
   },
   "file_extension": ".py",
   "mimetype": "text/x-python",
   "name": "python",
   "nbconvert_exporter": "python",
   "pygments_lexer": "ipython3",
   "version": "3.10.9"
  }
 },
 "nbformat": 4,
 "nbformat_minor": 5
}
