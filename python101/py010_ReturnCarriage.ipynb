{
 "cells": [
  {
   "cell_type": "markdown",
   "id": "49f1811d-257a-4c46-9f6a-e200f2dbc642",
   "metadata": {},
   "source": [
    "### return carriage print statements"
   ]
  },
  {
   "cell_type": "code",
   "execution_count": null,
   "id": "f8b5142f-a9dc-490e-8ea9-cc93009ba01e",
   "metadata": {},
   "outputs": [],
   "source": [
    "import time\n"
   ]
  }
 ],
 "metadata": {
  "kernelspec": {
   "display_name": "Python 3 (ipykernel)",
   "language": "python",
   "name": "python3"
  },
  "language_info": {
   "codemirror_mode": {
    "name": "ipython",
    "version": 3
   },
   "file_extension": ".py",
   "mimetype": "text/x-python",
   "name": "python",
   "nbconvert_exporter": "python",
   "pygments_lexer": "ipython3",
   "version": "3.10.9"
  }
 },
 "nbformat": 4,
 "nbformat_minor": 5
}
