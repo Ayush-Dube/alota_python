{
 "cells": [
  {
   "cell_type": "markdown",
   "id": "b241b67d-ab32-42e0-810e-94b79cf83b94",
   "metadata": {},
   "source": [
    "#### decorator simple example without @ syntax"
   ]
  },
  {
   "cell_type": "code",
   "execution_count": 11,
   "id": "559a8d7e-3acc-4645-b6ca-a9fb2e866fd8",
   "metadata": {},
   "outputs": [
    {
     "name": "stdout",
     "output_type": "stream",
     "text": [
      "from here ,the function given will be used\n",
      "some operation on base function was performed and 50 was acheived\n"
     ]
    }
   ],
   "source": [
    "def decoFun (anyF):\n",
    "    def wrp():\n",
    "        print(\"from here ,the function given will be used\")\n",
    "        res = anyF() *10\n",
    "        print(f\"some operation on base function was performed and {res} was acheived\")\n",
    "\n",
    "    return wrp    \n",
    "\n",
    "\n",
    "\n",
    "def base1 ():\n",
    "    a = 5\n",
    "    return a\n",
    "\n",
    "\n",
    "varVip = decoFun(base1)\n",
    "\n",
    "\n",
    "varVip()"
   ]
  },
  {
   "cell_type": "markdown",
   "id": "86a5b855-29ad-48c1-96cd-130aade4669e",
   "metadata": {},
   "source": [
    "#### decorator example with @ syntax"
   ]
  },
  {
   "cell_type": "code",
   "execution_count": 12,
   "id": "c109ba60-1b17-48c5-a7f9-08ef35071aa4",
   "metadata": {},
   "outputs": [
    {
     "name": "stdout",
     "output_type": "stream",
     "text": [
      "from here ,the function given will be used\n",
      "some operation on base function was performed and 50 was acheived\n"
     ]
    }
   ],
   "source": [
    "def decoFun (anyF):\n",
    "    def wrp():\n",
    "        print(\"from here ,the function given will be used\")\n",
    "        res = anyF() *10\n",
    "        print(f\"some operation on base function was performed and {res} was acheived\")\n",
    "\n",
    "    return wrp    \n",
    "\n",
    "\n",
    "@decoFun\n",
    "def base1 ():\n",
    "    a = 5\n",
    "    return a\n",
    "\n",
    "base1()"
   ]
  },
  {
   "cell_type": "code",
   "execution_count": 13,
   "id": "53c1adf5-94ed-4d67-bbab-89ea789d87c3",
   "metadata": {},
   "outputs": [
    {
     "name": "stdout",
     "output_type": "stream",
     "text": [
      "from here ,the function given will be used\n",
      "some operation on base function was performed and 110 was acheived\n"
     ]
    }
   ],
   "source": [
    "@decoFun\n",
    "def base1 ():\n",
    "    a = 11\n",
    "    return a\n",
    "\n",
    "base1()"
   ]
  },
  {
   "cell_type": "code",
   "execution_count": 14,
   "id": "70de5fe8-7cc1-4ecf-8406-484a44a399bf",
   "metadata": {},
   "outputs": [
    {
     "name": "stdout",
     "output_type": "stream",
     "text": [
      "from here ,the function given will be used\n",
      "some operation on base function was performed and 110 was acheived\n"
     ]
    }
   ],
   "source": [
    "base1()"
   ]
  },
  {
   "cell_type": "code",
   "execution_count": 15,
   "id": "0d4f3f6e-6556-486f-a92b-d1bf3ce03125",
   "metadata": {},
   "outputs": [
    {
     "name": "stdout",
     "output_type": "stream",
     "text": [
      "Starting\n",
      "ending\n",
      "Starting\n",
      "Hello EveryBody\n",
      "ending\n"
     ]
    }
   ],
   "source": [
    "def f1(anyF=None):\n",
    "    def wrp():\n",
    "        print(\"Starting\")\n",
    "        \n",
    "        if anyF is None or anyF==\"\" or anyF==\" \":\n",
    "            pass\n",
    "        else:\n",
    "            anyF()        \n",
    "        \n",
    "        print(\"ending\")\n",
    "        \n",
    "    return wrp\n",
    "\n",
    "\n",
    "\n",
    "f1()()\n",
    "\n",
    "def f():\n",
    "    print(\"Hello EveryBody\")\n",
    "    \n",
    "    \n",
    "f1(f)() "
   ]
  },
  {
   "cell_type": "code",
   "execution_count": 16,
   "id": "82cba73e-8697-4bb7-8abe-3fd02916a557",
   "metadata": {},
   "outputs": [
    {
     "name": "stdout",
     "output_type": "stream",
     "text": [
      "1\n",
      "[3, 6, 4, 9]\n",
      "ending\n"
     ]
    }
   ],
   "source": [
    "   def decofun1(anyf):\n",
    "        def wrp(*args):\n",
    "            print('1')\n",
    "            res = anyf(*args)\n",
    "            print(list(map(lambda i:len(i),args)))\n",
    "            print('ending')\n",
    "            \n",
    "        return wrp\n",
    "    \n",
    "    \n",
    "@decofun1\n",
    "def f2(*args):\n",
    "    return(list(args))\n",
    "\n",
    "\n",
    "f2(\"one\",\"orange\",'kiwi','pineapple')\n",
    "    "
   ]
  },
  {
   "cell_type": "code",
   "execution_count": null,
   "id": "d18e3a00-d359-48fb-bf9a-0a5300e88a28",
   "metadata": {},
   "outputs": [],
   "source": []
  }
 ],
 "metadata": {
  "kernelspec": {
   "display_name": "Python 3 (ipykernel)",
   "language": "python",
   "name": "python3"
  },
  "language_info": {
   "codemirror_mode": {
    "name": "ipython",
    "version": 3
   },
   "file_extension": ".py",
   "mimetype": "text/x-python",
   "name": "python",
   "nbconvert_exporter": "python",
   "pygments_lexer": "ipython3",
   "version": "3.10.9"
  }
 },
 "nbformat": 4,
 "nbformat_minor": 5
}
