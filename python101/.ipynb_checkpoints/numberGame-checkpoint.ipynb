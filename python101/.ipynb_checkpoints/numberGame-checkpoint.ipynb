{
 "cells": [
  {
   "cell_type": "code",
   "execution_count": 1,
   "id": "6ab2d39d-a37d-4b03-8e46-f0f25f90d6dd",
   "metadata": {},
   "outputs": [],
   "source": [
    "class NumbrG:\n",
    "    def __init__(self,*args):\n",
    "        self.args = args\n",
    "        print(f\"<* {' '.join(map(str,args))} *>\")\n",
    "        print(f\"{self.get_sum()} \\n  {self.get_avg()} \\n {self.sqr_it()} \\n {self.cube_it()} \\n {self.sort_it()}  \\n {self.get_big()}\\n {self.get_small()} \\n {self.get_size()}\")\n",
    "        \n",
    "    def get_sum(self):\n",
    "        return sum(list(self.args))\n",
    "    \n",
    "    def get_avg(self):\n",
    "        # return sum(list(self.args))/len(self.args)\n",
    "        return self.get_sum()/len(self.args)\n",
    "    \n",
    "    def sqr_it(self):\n",
    "        return list(map(lambda i:i*i,list(self.args)))\n",
    "    \n",
    "    def cube_it(self):\n",
    "        return list(map(lambda i:i*i*i,list(self.args)))\n",
    "\n",
    "    def sort_it(self):\n",
    "        sorted_arr = list(self.args)\n",
    "        sorted_arr.sort()\n",
    "        return sorted_arr\n",
    "    \n",
    "    def get_big(self):        \n",
    "        return self.sort_it()[-1]\n",
    "    \n",
    "    def get_small(self):\n",
    "        return self.sort_it()[0]\n",
    "    \n",
    "    def get_size(self):\n",
    "        return f\"size of the array is :- {len(self.args)}\"\n",
    "        \n",
    "        \n",
    "    \n",
    "        \n",
    "    \n",
    "        "
   ]
  },
  {
   "cell_type": "code",
   "execution_count": 2,
   "id": "f81661f1-e308-43b0-91fd-0943d8971f22",
   "metadata": {},
   "outputs": [
    {
     "name": "stdout",
     "output_type": "stream",
     "text": [
      "<* 99 11 44 55 4 101 1 *>\n",
      "315 \n",
      "  45.0 \n",
      " [9801, 121, 1936, 3025, 16, 10201, 1] \n",
      " [970299, 1331, 85184, 166375, 64, 1030301, 1] \n",
      " [1, 4, 11, 44, 55, 99, 101]  \n",
      " 101 \n",
      " 1 \n",
      " size of the array is :- 7\n",
      "315\n",
      "45.0\n",
      "[9801, 121, 1936, 3025, 16, 10201, 1]\n",
      "[970299, 1331, 85184, 166375, 64, 1030301, 1]\n",
      "[1, 4, 11, 44, 55, 99, 101]\n",
      "101\n",
      "1\n",
      "size of the array is :- 7\n",
      "<* -3 45 -66 37 -81 39 -46 23 48 -59 -32 -5 -69 -32 *>\n",
      "-201 \n",
      "  -14.357142857142858 \n",
      " [9, 2025, 4356, 1369, 6561, 1521, 2116, 529, 2304, 3481, 1024, 25, 4761, 1024] \n",
      " [-27, 91125, -287496, 50653, -531441, 59319, -97336, 12167, 110592, -205379, -32768, -125, -328509, -32768] \n",
      " [-81, -69, -66, -59, -46, -32, -32, -5, -3, 23, 37, 39, 45, 48]  \n",
      " 48 \n",
      " -81 \n",
      " size of the array is :- 14\n",
      "-201\n",
      "-14.357142857142858\n",
      "[9, 2025, 4356, 1369, 6561, 1521, 2116, 529, 2304, 3481, 1024, 25, 4761, 1024]\n",
      "[-27, 91125, -287496, 50653, -531441, 59319, -97336, 12167, 110592, -205379, -32768, -125, -328509, -32768]\n",
      "[-81, -69, -66, -59, -46, -32, -32, -5, -3, 23, 37, 39, 45, 48]\n",
      "48\n",
      "-81\n",
      "size of the array is :- 14\n"
     ]
    }
   ],
   "source": [
    "n1 = NumbrG(99,11,44,55,4,101,1)\n",
    "print(n1.get_sum())\n",
    "print(n1.get_avg())\n",
    "print(n1.sqr_it())\n",
    "print(n1.cube_it())\n",
    "print(n1.sort_it())\n",
    "print(n1.get_big())\n",
    "print(n1.get_small())\n",
    "print(n1.get_size())\n",
    "\n",
    "n2 = NumbrG(-3,45,-66,37,-81,39,-46,23,48,-59,-32,-5,-69,-32)\n",
    "print(n2.get_sum())\n",
    "print(n2.get_avg())\n",
    "print(n2.sqr_it())\n",
    "print(n2.cube_it())\n",
    "print(n2.sort_it())\n",
    "print(n2.get_big())\n",
    "print(n2.get_small())\n",
    "print(n2.get_size())\n"
   ]
  },
  {
   "cell_type": "code",
   "execution_count": 5,
   "id": "510c1171-eb6c-4e3e-be27-5fb09e1aad7f",
   "metadata": {},
   "outputs": [],
   "source": [
    "n4 = [2,-43,56,-87,445,34,98,-45,-7,8,63,-27,82,96]"
   ]
  },
  {
   "cell_type": "code",
   "execution_count": null,
   "id": "8aafba07-5120-4f21-bcc9-0bef3efe96dc",
   "metadata": {},
   "outputs": [],
   "source": []
  }
 ],
 "metadata": {
  "kernelspec": {
   "display_name": "Python 3 (ipykernel)",
   "language": "python",
   "name": "python3"
  },
  "language_info": {
   "codemirror_mode": {
    "name": "ipython",
    "version": 3
   },
   "file_extension": ".py",
   "mimetype": "text/x-python",
   "name": "python",
   "nbconvert_exporter": "python",
   "pygments_lexer": "ipython3",
   "version": "3.10.9"
  }
 },
 "nbformat": 4,
 "nbformat_minor": 5
}
