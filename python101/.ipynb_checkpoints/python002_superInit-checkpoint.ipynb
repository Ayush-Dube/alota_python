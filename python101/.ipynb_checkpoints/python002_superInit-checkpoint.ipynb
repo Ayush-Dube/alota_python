{
 "cells": [
  {
   "cell_type": "markdown",
   "id": "25c2dbd2-f7a1-48bf-926d-c2593e77937a",
   "metadata": {},
   "source": [
    "#### super() --> A special function used in CHILD/SUB class to call methods from prarent/super class.  \n",
    "- <details><summary>brocode</summary>\n",
    "    refer brocode SUPER() in Python explained!\n",
    "\n",
    "\n",
    "  </details>"
   ]
  },
  {
   "cell_type": "markdown",
   "id": "5d90e1c5-eb88-4e0b-aa5b-0b1dbdeb1929",
   "metadata": {},
   "source": [
    "- 👉when you add __init__() function, the child class will no longer inherit parents __init__()function\n",
    "- 👉to keep inhertiance of parents __init__(), add a call to parents init inside the childs init function\n",
    " \n",
    "             class Subclass:\n",
    "                  def __init__(self,para1,para2,para3):\n",
    "                     self.para3 = para3\n",
    "                     Parent.__init__(self,para1,para2) \n",
    "                     \n",
    "                     or use \n",
    "                     \n",
    "                     super().__init__(para1,para2)  ## inthis case u do not have to write self again as a arguement.\n",
    "                     \n",
    "                     \n",
    "- Key Concepts to Remember:  \n",
    "    Inheritance:\n",
    "\n",
    "    Share common logic in the parent class.\n",
    "    Child classes can extend or override the behavior of the parent.\n",
    "    super() Behavior:\n",
    "\n",
    "    Use it to initialize parent class attributes or methods.\n",
    "    Call it early to avoid conflicts.\n",
    "    Encapsulation:\n",
    "\n",
    "    Use private or protected attributes (e.g., _weight or __weight) for better control.\n",
    "    Polymorphism:\n",
    "\n",
    "    Define common methods in the parent and customize them in child classes.\n"
   ]
  },
  {
   "cell_type": "code",
   "execution_count": 42,
   "id": "e826c797-7cbc-4dcc-80a4-f7018df28a8b",
   "metadata": {},
   "outputs": [],
   "source": [
    "class Human:\n",
    "    def __init__(self,name,age,gender,height,weight):\n",
    "        self.name = name\n",
    "        self.age = age\n",
    "        self.gender = gender\n",
    "        self.height = height\n",
    "        self.weight =weight\n",
    "        print(f\"a {self.gender} named '{self.name}', {self.age} yrs of age weighing {self.weight} kg stands {self.height} cms tall.\")\n",
    "        \n",
    "    def run():\n",
    "        print(f\"{self.name} will run now\")\n",
    "    \n",
    "    \n",
    "    \n",
    "    \n",
    "class Employee(Human):\n",
    "    \n",
    "    def __init__(self ,name,age,gender,height,weight,state,profession):\n",
    "        super().__init__(name,age,gender,height,weight)\n",
    "        self.state = state\n",
    "        self.profession = profession\n",
    "        self.__pronoun = \"he\" if self.gender.lower() == 'male' else \"she\"\n",
    "        print(f\"{self.__pronoun} works as a {self.profession} and is from {self.state}\") \n",
    "        \n",
    "         # if u take the super declaration  before self.state the order will change\n",
    "        \n",
    "\n",
    "class Soldier:\n",
    "    pass\n",
    "    \n",
    "class Teacher:\n",
    "    pass\n",
    "\n",
    "class Farmer:\n",
    "    pass \n"
   ]
  },
  {
   "cell_type": "code",
   "execution_count": 33,
   "id": "55f0c6dd-2b57-4ada-982e-56ae2c4e5298",
   "metadata": {},
   "outputs": [
    {
     "name": "stdout",
     "output_type": "stream",
     "text": [
      "a male named 'Ajay', 26 yrs of age weighing 71 kg stands 175 cms tall.\n"
     ]
    }
   ],
   "source": [
    "\n",
    "h1=Human('Ajay',26,'male',175,71)"
   ]
  },
  {
   "cell_type": "code",
   "execution_count": 45,
   "id": "4ebc02b6-c6db-43c3-9830-369ec395deaa",
   "metadata": {},
   "outputs": [
    {
     "name": "stdout",
     "output_type": "stream",
     "text": [
      "a female named 'Biloo', 25 yrs of age weighing 62 kg stands 168 cms tall.\n",
      "she works as a teacher and is from Delhi\n"
     ]
    }
   ],
   "source": [
    "e1 = Employee('Biloo',25,'female',168,62,\"Delhi\",\"teacher\")"
   ]
  },
  {
   "cell_type": "code",
   "execution_count": 35,
   "id": "884c1446-e52a-40b2-95e9-548af6ab0d46",
   "metadata": {},
   "outputs": [
    {
     "name": "stdout",
     "output_type": "stream",
     "text": [
      "Biloo\n"
     ]
    }
   ],
   "source": [
    "print(e1.name)"
   ]
  },
  {
   "cell_type": "markdown",
   "id": "da2f34cf-b174-48e7-9216-1eb1944197a1",
   "metadata": {},
   "source": [
    "## code\n",
    "\n",
    "    class Employee(Human):\n",
    "        def __init__(self, name, age, gender, height, weight, state, profession):\n",
    "            super().__init__(name, age, gender, height, weight)  # Initializes self.gender\n",
    "            self.state = state\n",
    "            self.profession = profession\n",
    "            self.__pronoun = \"he\" if self.gender.lower() == \"male\" else \"she\"  # Use self.gender\n",
    "            print(f\"{self.__pronoun.capitalize()} works as a {self.profession} and is from {self.state}\")\n"
   ]
  },
  {
   "cell_type": "code",
   "execution_count": 36,
   "id": "43e2eec8-0460-418e-84b2-471ce4020482",
   "metadata": {},
   "outputs": [
    {
     "name": "stdout",
     "output_type": "stream",
     "text": [
      "<__main__.Employee object at 0x0000019918DF2620>\n"
     ]
    }
   ],
   "source": [
    "print(e1)  # without __str__ mrthod"
   ]
  },
  {
   "cell_type": "code",
   "execution_count": null,
   "id": "fb4e7f94-c622-4585-be52-4a4d5c615659",
   "metadata": {},
   "outputs": [],
   "source": []
  }
 ],
 "metadata": {
  "kernelspec": {
   "display_name": "Python 3 (ipykernel)",
   "language": "python",
   "name": "python3"
  },
  "language_info": {
   "codemirror_mode": {
    "name": "ipython",
    "version": 3
   },
   "file_extension": ".py",
   "mimetype": "text/x-python",
   "name": "python",
   "nbconvert_exporter": "python",
   "pygments_lexer": "ipython3",
   "version": "3.10.9"
  }
 },
 "nbformat": 4,
 "nbformat_minor": 5
}
