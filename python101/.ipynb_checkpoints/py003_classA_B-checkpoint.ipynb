{
 "cells": [
  {
   "cell_type": "code",
   "execution_count": 33,
   "id": "74e200b3-4143-4a9f-89f6-afd5ece5e360",
   "metadata": {},
   "outputs": [],
   "source": [
    "class A:\n",
    "    def run(self):\n",
    "        print(\"msg A\")\n",
    "        return \"lion\"\n",
    "        \n",
    "        \n",
    "        \n",
    "        \n",
    "class B(A):\n",
    "    def run(self):\n",
    "        print('msg B')\n",
    "        print(f\"{super().run() }\")  # if u had not used the B(A) then u would have not been able to use super() method or data of class A"
   ]
  },
  {
   "cell_type": "code",
   "execution_count": 34,
   "id": "80d053ab-3845-430b-b271-f36e0ff757c2",
   "metadata": {},
   "outputs": [],
   "source": [
    "a1 = A()\n",
    "b1= B()"
   ]
  },
  {
   "cell_type": "code",
   "execution_count": 35,
   "id": "a8b604e7-63ee-4511-9809-8adde4a300f9",
   "metadata": {},
   "outputs": [
    {
     "name": "stdout",
     "output_type": "stream",
     "text": [
      "msg A\n"
     ]
    },
    {
     "data": {
      "text/plain": [
       "'lion'"
      ]
     },
     "execution_count": 35,
     "metadata": {},
     "output_type": "execute_result"
    }
   ],
   "source": [
    "a1.run()"
   ]
  },
  {
   "cell_type": "code",
   "execution_count": 37,
   "id": "9ddf89f0-e7fe-4fa7-a8f8-6e855bca4871",
   "metadata": {},
   "outputs": [
    {
     "name": "stdout",
     "output_type": "stream",
     "text": [
      "msg B\n",
      "msg A\n",
      "lion\n"
     ]
    }
   ],
   "source": [
    "b1.run()    # run of B will work bcoz bottom to top approach"
   ]
  },
  {
   "cell_type": "code",
   "execution_count": null,
   "id": "2d82ea3c-8f16-4627-a3c6-e788ac1d5948",
   "metadata": {},
   "outputs": [],
   "source": []
  }
 ],
 "metadata": {
  "kernelspec": {
   "display_name": "Python 3 (ipykernel)",
   "language": "python",
   "name": "python3"
  },
  "language_info": {
   "codemirror_mode": {
    "name": "ipython",
    "version": 3
   },
   "file_extension": ".py",
   "mimetype": "text/x-python",
   "name": "python",
   "nbconvert_exporter": "python",
   "pygments_lexer": "ipython3",
   "version": "3.10.9"
  }
 },
 "nbformat": 4,
 "nbformat_minor": 5
}
