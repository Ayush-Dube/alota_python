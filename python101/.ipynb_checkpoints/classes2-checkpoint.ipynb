{
 "cells": [
  {
   "cell_type": "code",
   "execution_count": 21,
   "id": "7f176eaa",
   "metadata": {},
   "outputs": [
    {
     "name": "stdout",
     "output_type": "stream",
     "text": [
      "usr created a bank account with 5000\n",
      "10000\n",
      "9950\n"
     ]
    }
   ],
   "source": [
    "class Usr:\n",
    "    def __init__(self,name,age,amount):\n",
    "        self.name = name \n",
    "        self.age = age\n",
    "        self.amount = amount\n",
    "        print(f'usr created a bank account with {self.amount}')\n",
    "        \n",
    "    def credit(self,x=0):\n",
    "        self.amount = self.amount + x\n",
    "    \n",
    "    def debit(self,y=0):\n",
    "        self.amount = self.amount - y\n",
    "   \n",
    "        \n",
    "        \n",
    "usr1 = Usr('Aman',25,5000)\n",
    "\n",
    "usr1.credit(5000)\n",
    "print(usr1.amount)\n",
    "usr1.debit(50)\n",
    "print(usr1.amount)\n",
    "\n",
    "usr1.credit()\n",
    "        \n",
    "        "
   ]
  },
  {
   "cell_type": "code",
   "execution_count": 24,
   "id": "9955bd8d",
   "metadata": {},
   "outputs": [
    {
     "name": "stdout",
     "output_type": "stream",
     "text": [
      "usr created a bank account with 85000\n"
     ]
    }
   ],
   "source": [
    "usr2 = Usr('billa',31,85000)\n"
   ]
  },
  {
   "cell_type": "code",
   "execution_count": 23,
   "id": "68bbf76e",
   "metadata": {},
   "outputs": [],
   "source": [
    "usr2.amount = 111"
   ]
  },
  {
   "cell_type": "code",
   "execution_count": 22,
   "id": "a2563e3a",
   "metadata": {},
   "outputs": [
    {
     "name": "stdout",
     "output_type": "stream",
     "text": [
      "111\n"
     ]
    }
   ],
   "source": [
    "print(usr2.amount)"
   ]
  },
  {
   "cell_type": "markdown",
   "id": "d753bc89",
   "metadata": {},
   "source": [
    "#### observe the code above this cell without calling the credit or debit method of Usr class i was able to alter the value of self.amount \n",
    "-  how to prevent this ? \n",
    "        - by using double undersoke  __ ,which will make it private\n"
   ]
  },
  {
   "cell_type": "code",
   "execution_count": 25,
   "id": "d9aefed3",
   "metadata": {},
   "outputs": [
    {
     "name": "stdout",
     "output_type": "stream",
     "text": [
      "-40050\n"
     ]
    }
   ],
   "source": [
    "usr1.credit(-50000)\n",
    "print(usr1.amount)"
   ]
  },
  {
   "cell_type": "markdown",
   "id": "3bfccf6a",
   "metadata": {},
   "source": [
    "#### its flawed , crediting a  negative amount will lead to debt...."
   ]
  }
 ],
 "metadata": {
  "kernelspec": {
   "display_name": "Python 3 (ipykernel)",
   "language": "python",
   "name": "python3"
  },
  "language_info": {
   "codemirror_mode": {
    "name": "ipython",
    "version": 3
   },
   "file_extension": ".py",
   "mimetype": "text/x-python",
   "name": "python",
   "nbconvert_exporter": "python",
   "pygments_lexer": "ipython3",
   "version": "3.10.9"
  }
 },
 "nbformat": 4,
 "nbformat_minor": 5
}
