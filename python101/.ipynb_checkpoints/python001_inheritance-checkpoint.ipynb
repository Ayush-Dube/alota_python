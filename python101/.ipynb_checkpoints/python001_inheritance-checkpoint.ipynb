{
 "cells": [
  {
   "cell_type": "markdown",
   "id": "f4384746-e650-49fd-87ec-d433f7897b85",
   "metadata": {},
   "source": [
    "### Using Super init method for inheritance"
   ]
  },
  {
   "cell_type": "code",
   "execution_count": null,
   "id": "b837db2e-9bea-4d0d-8e18-6b8b1154bf78",
   "metadata": {},
   "outputs": [],
   "source": [
    "class A:\n",
    "     outrVarA = \"this is a varaible from outside the init\""
   ]
  }
 ],
 "metadata": {
  "kernelspec": {
   "display_name": "Python 3 (ipykernel)",
   "language": "python",
   "name": "python3"
  },
  "language_info": {
   "codemirror_mode": {
    "name": "ipython",
    "version": 3
   },
   "file_extension": ".py",
   "mimetype": "text/x-python",
   "name": "python",
   "nbconvert_exporter": "python",
   "pygments_lexer": "ipython3",
   "version": "3.10.9"
  }
 },
 "nbformat": 4,
 "nbformat_minor": 5
}
