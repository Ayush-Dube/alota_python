{
 "cells": [
  {
   "cell_type": "markdown",
   "id": "f4384746-e650-49fd-87ec-d433f7897b85",
   "metadata": {},
   "source": [
    "### Using Super init method for inheritance\n",
    "- bytive understanding python super() with __init__() method"
   ]
  },
  {
   "cell_type": "code",
   "execution_count": 72,
   "id": "b837db2e-9bea-4d0d-8e18-6b8b1154bf78",
   "metadata": {},
   "outputs": [],
   "source": [
    "class A:\n",
    "     outrVarA = \"this is a varaible from outside the init\"\n",
    "        \n",
    "     def __init__(self):\n",
    "        self.outrVarA =  \"from inside different value LION\"  #try commenting this line and observe\n",
    "        self.secret = \"su-30 mki\"\n",
    "        \n",
    "    "
   ]
  },
  {
   "cell_type": "code",
   "execution_count": 74,
   "id": "35384c26-897e-489a-bafb-45158e09e571",
   "metadata": {},
   "outputs": [
    {
     "data": {
      "text/plain": [
       "'from inside different value LION'"
      ]
     },
     "execution_count": 74,
     "metadata": {},
     "output_type": "execute_result"
    }
   ],
   "source": [
    "a1 =A()\n",
    "a1.outrVarA"
   ]
  },
  {
   "cell_type": "markdown",
   "id": "09f0fe8e-9f33-4836-8633-a66c974093b3",
   "metadata": {},
   "source": [
    "#### interesting that 2 same name variable are present but the init method's variable is being prefered"
   ]
  },
  {
   "cell_type": "code",
   "execution_count": 61,
   "id": "ed8f9679-2168-4b05-8176-30974e9b7baa",
   "metadata": {},
   "outputs": [
    {
     "data": {
      "text/plain": [
       "'changed but still outside'"
      ]
     },
     "execution_count": 61,
     "metadata": {},
     "output_type": "execute_result"
    }
   ],
   "source": [
    "\n",
    "a1.outrVarA = \"changed but still outside\"\n",
    "a1.outrVarA"
   ]
  },
  {
   "cell_type": "code",
   "execution_count": 68,
   "id": "951ab726-3cbd-472a-b671-00b2550ae4bb",
   "metadata": {},
   "outputs": [],
   "source": [
    "class B(A):  #inheriting class A\n",
    "    classvar2 = \"calss B variable value\"\n",
    "    \n",
    "    def __init__(self):\n",
    "        super().__init__()\n",
    "        self.classBvar1 = \"from class B init apple\"\n",
    "        # self.secret = \"mirage-2000\""
   ]
  },
  {
   "cell_type": "code",
   "execution_count": 69,
   "id": "e426b19b-58ec-4bb3-85b9-3af2d168f4bb",
   "metadata": {},
   "outputs": [],
   "source": [
    "b1 = B()"
   ]
  },
  {
   "cell_type": "code",
   "execution_count": 70,
   "id": "a34278ae-23e0-47fa-868b-5f10fd61cfc3",
   "metadata": {},
   "outputs": [
    {
     "name": "stdout",
     "output_type": "stream",
     "text": [
      "su-30 mki\n",
      "from inside different value LION\n"
     ]
    }
   ],
   "source": [
    "print(b1.secret)\n",
    "print(b1.outrVarA)"
   ]
  },
  {
   "cell_type": "markdown",
   "id": "a07932af-78b2-4326-99cc-02a67d0aa4ef",
   "metadata": {},
   "source": [
    "in class b ,  \n",
    "- if u do not write init method , then it will happily take the init secret variable\n",
    "- but if u use init method in class b without super then u will not be able to access class A secret varaible \n",
    "- use super init to access class A init varaibles "
   ]
  },
  {
   "cell_type": "code",
   "execution_count": null,
   "id": "53e98256-760c-4e89-a02d-1201f448025d",
   "metadata": {},
   "outputs": [],
   "source": []
  },
  {
   "cell_type": "code",
   "execution_count": null,
   "id": "fe27aedd-55a4-4ddb-98bf-f70d0fb77373",
   "metadata": {},
   "outputs": [],
   "source": []
  }
 ],
 "metadata": {
  "kernelspec": {
   "display_name": "Python 3 (ipykernel)",
   "language": "python",
   "name": "python3"
  },
  "language_info": {
   "codemirror_mode": {
    "name": "ipython",
    "version": 3
   },
   "file_extension": ".py",
   "mimetype": "text/x-python",
   "name": "python",
   "nbconvert_exporter": "python",
   "pygments_lexer": "ipython3",
   "version": "3.10.9"
  }
 },
 "nbformat": 4,
 "nbformat_minor": 5
}
