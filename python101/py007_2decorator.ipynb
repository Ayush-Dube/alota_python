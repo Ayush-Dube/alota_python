{
 "cells": [
  {
   "cell_type": "markdown",
   "id": "4a3616cc-2eb9-4118-9f6a-3c7b7338cc67",
   "metadata": {},
   "source": [
    "#### lets define many functions and apply a decorator on each one of them\n"
   ]
  },
  {
   "cell_type": "code",
   "execution_count": 30,
   "id": "ba751928-eb71-4692-83be-1865b163b392",
   "metadata": {},
   "outputs": [
    {
     "name": "stdout",
     "output_type": "stream",
     "text": [
      "this operation took 1.0085554122924805 seconds\n"
     ]
    }
   ],
   "source": [
    "import time\n",
    "\n",
    "\n",
    "def i_calulateTime(func):\n",
    "    def wrp(*args,**kwargs):\n",
    "        before = time.time()\n",
    "        func(*args,**kwargs)\n",
    "        print(f\"this operation took {time.time() - before} seconds\")\n",
    "        \n",
    "    return wrp\n",
    "\n",
    "@i_calulateTime\n",
    "def sleeper(a):\n",
    "    if type(a)== int or type(a) ==float:\n",
    "        time.sleep(a)\n",
    "    else:\n",
    "        print(\"Invalid input\")\n",
    "        \n",
    "        \n",
    "    \n",
    "    \n",
    "sleeper(1)    \n",
    "        \n",
    "        \n",
    "        \n",
    "    "
   ]
  },
  {
   "cell_type": "code",
   "execution_count": 22,
   "id": "291a370d-00cd-444b-b581-efe079f97f5c",
   "metadata": {},
   "outputs": [
    {
     "name": "stdout",
     "output_type": "stream",
     "text": [
      "this operation took 4.011945962905884 seconds\n"
     ]
    }
   ],
   "source": [
    "sleeper(4)"
   ]
  },
  {
   "cell_type": "code",
   "execution_count": 29,
   "id": "4b77c679-4334-4f5c-b30d-5aa44920b27a",
   "metadata": {},
   "outputs": [
    {
     "name": "stdout",
     "output_type": "stream",
     "text": [
      "Invalid input\n",
      "this operation took 0.0 seconds\n"
     ]
    }
   ],
   "source": [
    "sleeper('a')  #bug"
   ]
  },
  {
   "cell_type": "code",
   "execution_count": 23,
   "id": "6b9fa7bc-bf01-4673-8516-07aad9f97808",
   "metadata": {},
   "outputs": [
    {
     "name": "stdout",
     "output_type": "stream",
     "text": [
      "this operation took 1.0144052505493164 seconds\n"
     ]
    }
   ],
   "source": [
    "sleeper(1.00001)"
   ]
  },
  {
   "cell_type": "markdown",
   "id": "fca2c827-f318-4f4c-9595-a0427b1fce88",
   "metadata": {},
   "source": [
    "### example2"
   ]
  },
  {
   "cell_type": "code",
   "execution_count": null,
   "id": "6e58c338-3a7c-423e-8ed4-57ebd0bd267b",
   "metadata": {},
   "outputs": [],
   "source": []
  }
 ],
 "metadata": {
  "kernelspec": {
   "display_name": "Python 3 (ipykernel)",
   "language": "python",
   "name": "python3"
  },
  "language_info": {
   "codemirror_mode": {
    "name": "ipython",
    "version": 3
   },
   "file_extension": ".py",
   "mimetype": "text/x-python",
   "name": "python",
   "nbconvert_exporter": "python",
   "pygments_lexer": "ipython3",
   "version": "3.10.9"
  }
 },
 "nbformat": 4,
 "nbformat_minor": 5
}
